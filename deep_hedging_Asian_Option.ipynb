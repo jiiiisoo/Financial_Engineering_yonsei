{
  "nbformat": 4,
  "nbformat_minor": 0,
  "metadata": {
    "colab": {
      "name": "deep hedging Asian Option.ipynb",
      "provenance": [],
      "collapsed_sections": [
        "taWsHQiyPauQ",
        "jUqzSTqFPoxW",
        "-KjFzyxvRSnk",
        "ypO56EyMT-9V",
        "4NF2K8-mdJjH"
      ],
      "authorship_tag": "ABX9TyM7TTQ4eNV1ACR5wsaZ3BF8",
      "include_colab_link": true
    },
    "kernelspec": {
      "name": "python3",
      "display_name": "Python 3"
    },
    "language_info": {
      "name": "python"
    },
    "gpuClass": "standard",
    "accelerator": "GPU"
  },
  "cells": [
    {
      "cell_type": "markdown",
      "metadata": {
        "id": "view-in-github",
        "colab_type": "text"
      },
      "source": [
        "<a href=\"https://colab.research.google.com/github/jiiiisoo/Financial_Engineering_yonsei/blob/main/deep_hedging_Asian_Option.ipynb\" target=\"_parent\"><img src=\"https://colab.research.google.com/assets/colab-badge.svg\" alt=\"Open In Colab\"/></a>"
      ]
    },
    {
      "cell_type": "code",
      "execution_count": 14,
      "metadata": {
        "id": "sFT2pXe4LBAQ"
      },
      "outputs": [],
      "source": [
        "import numpy as np\n",
        "import matplotlib.pyplot as plt\n",
        "from scipy.stats import norm"
      ]
    },
    {
      "cell_type": "markdown",
      "source": [
        ""
      ],
      "metadata": {
        "id": "k3o1DGSdaNrr"
      }
    },
    {
      "cell_type": "code",
      "source": [
        "r = 0.00 #interest\n",
        "sig = 0.2 #level of fluctuation of current stock price\n",
        "T = 30/365 #Time to maturity (30일/360일)\n",
        "\n",
        "M = 100 #number of path\n",
        "N = 100 #for one scenrio, I will devide into 30 (더 많이 하면 accuracy 높아짐)\n",
        "\n",
        "dt = T/N\n",
        "rdt = r*dt\n",
        "sigsdt = sig * np.sqrt(dt)"
      ],
      "metadata": {
        "id": "L92S-SZbMsSY"
      },
      "execution_count": 49,
      "outputs": []
    },
    {
      "cell_type": "code",
      "source": [
        "S0 = 100\n",
        "np.random.seed(20220617)\n",
        "S = np.empty([M,N+1])\n",
        "rv = np.random.normal(r*dt,sigsdt,[M,N])"
      ],
      "metadata": {
        "id": "SdWOGaDcMunn"
      },
      "execution_count": 50,
      "outputs": []
    },
    {
      "cell_type": "markdown",
      "source": [
        "# Monte Carlo method"
      ],
      "metadata": {
        "id": "1TJASOv44EN2"
      }
    },
    {
      "cell_type": "code",
      "source": [
        "for i in range(M):\n",
        "  S[i,0]=S0\n",
        "  for j in range(N):\n",
        "    S[i,j+1]=S[i,j]*(1+rv[i,j])"
      ],
      "metadata": {
        "id": "MdbLBNzR4Iqa"
      },
      "execution_count": 51,
      "outputs": []
    },
    {
      "cell_type": "code",
      "source": [
        "S_avg=[]\n",
        "Asian_payoff=[]\n",
        "\n",
        "K=100\n",
        "\n",
        "for i in range(M):\n",
        "    S_avg.append(np.mean(S[i,:]))\n",
        "    Asian_payoff.append(np.maximum(S_avg[i]-K,0))\n",
        "\n",
        "np.mean(Asian_payoff)*np.exp(-r*T)"
      ],
      "metadata": {
        "colab": {
          "base_uri": "https://localhost:8080/"
        },
        "id": "pF8cKlHV5gbw",
        "outputId": "02e7bd8b-22c8-40ec-d52f-9de8f4125a66"
      },
      "execution_count": 52,
      "outputs": [
        {
          "output_type": "execute_result",
          "data": {
            "text/plain": [
              "1.3032140667213907"
            ]
          },
          "metadata": {},
          "execution_count": 52
        }
      ]
    },
    {
      "cell_type": "markdown",
      "source": [
        "# Model"
      ],
      "metadata": {
        "id": "t8fY8Trh9DV1"
      }
    },
    {
      "cell_type": "code",
      "source": [
        "import tensorflow as tf"
      ],
      "metadata": {
        "id": "pAy6dvXwMzdp"
      },
      "execution_count": 7,
      "outputs": []
    },
    {
      "cell_type": "code",
      "source": [
        "K=100\n",
        "\n",
        "my_input = []\n",
        "\n",
        "premium = tf.keras.layers.Input(shape=(1,), name=\"premium\")\n",
        "my_input = my_input + [premium]\n",
        "\n",
        "hedge_cost = tf.keras.layers.Input(shape=(1,), name='hedge_cost')\n",
        "my_input = my_input + [hedge_cost]\n",
        "\n",
        "price = tf.keras.layers.Input(shape=(1,), name=\"price\")\n",
        "my_input = my_input + [price]\n",
        "\n",
        "\n",
        "for j in range(N):\n",
        "    \n",
        "    delta = tf.keras.layers.Dense(32, activation='tanh')(price)\n",
        "    #delta = tf.keras.layers.BatchNormalization()(delta)\n",
        "    #delta = tf.keras.layers.Dropout(0.5)(delta)\n",
        "    #delta = tf.keras.layers.Dense(32, activation='leaky_relu')(delta)\n",
        "    #delta = tf.keras.layers.BatchNormalization()(delta)\n",
        "    #delta = tf.keras.layers.Dropout(0.5)(delta)\n",
        "    #delta = tf.keras.layers.Dense(32, activation='leaky_relu')(delta)\n",
        "    #delta = tf.keras.layers.BatchNormalization()(delta)\n",
        "    #delta=tf.keras.layers.Dropout(0.5)(delta)\n",
        "    delta = tf.keras.layers.Dense(32, activation='leaky_relu')(delta)\n",
        "    delta = tf.keras.layers.Dense(1)(delta)\n",
        "\n",
        "    new_price = tf.keras.layers.Input(shape=(1,), name='S'+str(j))\n",
        "    my_input = my_input + [new_price]\n",
        "\n",
        "    price_inc = tf.keras.layers.Subtract(name='price_inc_'+str(j))([price, new_price])\n",
        "    cost = tf.keras.layers.Multiply(name=\"multiply_\"+str(j))([delta, price_inc])\n",
        "    hedge_cost = tf.keras.layers.Add(name='cost_'+str(j))([hedge_cost, cost])\n",
        "    price = new_price\n",
        "\n",
        "payoff = tf.keras.layers.Lambda(lambda x : 0.5*(tf.abs(x/N-K)+x/N-K))(price) #asian 으로 바꿔야 (lambda부분으로 average로)\n",
        "\n",
        "cum_cost = tf.keras.layers.Add(name=\"final\")([hedge_cost, payoff])\n",
        "cum_cost = tf.keras.layers.Subtract(name=\"final_\")([cum_cost, premium])\n",
        "\n",
        "model = tf.keras.Model(inputs=my_input, outputs=cum_cost) "
      ],
      "metadata": {
        "id": "Nc1c1DBTNH_k"
      },
      "execution_count": 61,
      "outputs": []
    },
    {
      "cell_type": "code",
      "source": [
        "p = 1.3032140667213907 * np.ones([M,1])\n",
        "c = np.zeros([M,1])\n",
        "SS = [S[:,i].reshape(M,1) for i in range(N+1)]\n",
        "x = [p]+[c]+[SS]\n",
        "y = np.zeros([M,1])"
      ],
      "metadata": {
        "id": "0LkUkMKBNYzl"
      },
      "execution_count": 62,
      "outputs": []
    },
    {
      "cell_type": "code",
      "source": [
        "model.compile(loss='mse', optimizer='adam')"
      ],
      "metadata": {
        "id": "2L2FdaTaNaNO"
      },
      "execution_count": 63,
      "outputs": []
    },
    {
      "cell_type": "code",
      "source": [
        "model.fit(x,y, epochs=180, verbose=True)"
      ],
      "metadata": {
        "id": "82Ex3458Nbvu"
      },
      "execution_count": null,
      "outputs": []
    },
    {
      "cell_type": "markdown",
      "source": [
        "# For different N's"
      ],
      "metadata": {
        "id": "jUqzSTqFPoxW"
      }
    },
    {
      "cell_type": "code",
      "source": [
        "r = 0.00 #interest\n",
        "sig = 0.2 #level of fluctuation of current stock price\n",
        "T = 30/365 #Time to maturity (30일/360일)\n",
        "\n",
        "M = 100 #number of path"
      ],
      "metadata": {
        "id": "Wzef6uFeBrrs"
      },
      "execution_count": 83,
      "outputs": []
    },
    {
      "cell_type": "code",
      "source": [
        "#for N=30\n",
        "#premium:1.5401476142837958\n",
        "plt.hist(model.predict(x))\n",
        "plt.title('Asian Option deep hedging for N=30')\n",
        "plt.xlabel('Distance from premium')\n",
        "plt.ylabel('Distribution')"
      ],
      "metadata": {
        "id": "9IPWbioLNdQJ",
        "colab": {
          "base_uri": "https://localhost:8080/",
          "height": 313
        },
        "outputId": "90fe70fb-3782-4136-fcfe-ca9732556479"
      },
      "execution_count": 73,
      "outputs": [
        {
          "output_type": "execute_result",
          "data": {
            "text/plain": [
              "Text(0, 0.5, 'Distribution')"
            ]
          },
          "metadata": {},
          "execution_count": 73
        },
        {
          "output_type": "display_data",
          "data": {
            "text/plain": [
              "<Figure size 432x288 with 1 Axes>"
            ],
            "image/png": "[encoded data removed]"
          },
          "metadata": {
            "needs_background": "light"
          }
        }
      ]
    },
    {
      "cell_type": "code",
      "source": [
        "#for N=50\n",
        "#premium:1.4057170288812584\n",
        "plt.hist(model.predict(x))\n",
        "plt.title('Asian Option deep hedging for N=50')\n",
        "plt.xlabel('Distance from premium')\n",
        "plt.ylabel('Distribution')"
      ],
      "metadata": {
        "id": "oI1U5WvSNfV3",
        "colab": {
          "base_uri": "https://localhost:8080/",
          "height": 313
        },
        "outputId": "40694c5e-5993-40e6-df36-b12d17b3e8e8"
      },
      "execution_count": 63,
      "outputs": [
        {
          "output_type": "execute_result",
          "data": {
            "text/plain": [
              "Text(0, 0.5, 'Distribution')"
            ]
          },
          "metadata": {},
          "execution_count": 63
        },
        {
          "output_type": "display_data",
          "data": {
            "text/plain": [
              "<Figure size 432x288 with 1 Axes>"
            ],
            "image/png": "[encoded data removed]"
          },
          "metadata": {
            "needs_background": "light"
          }
        }
      ]
    },
    {
      "cell_type": "code",
      "source": [
        "#for N=100\n",
        "#premium: 1.3032140667213907\n",
        "plt.hist(model.predict(x))\n",
        "plt.title('Asian Option deep hedging')\n",
        "plt.xlabel('Distance from premium')\n",
        "plt.ylabel('Distribution')"
      ],
      "metadata": {
        "colab": {
          "base_uri": "https://localhost:8080/",
          "height": 313
        },
        "id": "sdZ5Z4mU-whT",
        "outputId": "6ce946cc-8b01-42e2-e6a9-c24ea9041941"
      },
      "execution_count": 84,
      "outputs": [
        {
          "output_type": "execute_result",
          "data": {
            "text/plain": [
              "Text(0, 0.5, 'Distribution')"
            ]
          },
          "metadata": {},
          "execution_count": 84
        },
        {
          "output_type": "display_data",
          "data": {
            "text/plain": [
              "<Figure size 432x288 with 1 Axes>"
            ],
            "image/png": "[encoded data removed]"
          },
          "metadata": {
            "needs_background": "light"
          }
        }
      ]
    },
    {
      "cell_type": "markdown",
      "source": [
        "# For different model"
      ],
      "metadata": {
        "id": "-KjFzyxvRSnk"
      }
    },
    {
      "cell_type": "code",
      "source": [
        "#for N=100\n",
        "#for 3 more layer\n",
        "#premium: 1.3032140667213907\n",
        "plt.hist(model.predict(x))\n",
        "plt.title('Asian Option deep hedging')\n",
        "plt.xlabel('Distance from premium')\n",
        "plt.ylabel('Distribution')"
      ],
      "metadata": {
        "colab": {
          "base_uri": "https://localhost:8080/",
          "height": 313
        },
        "id": "uRoTmuGqPj2V",
        "outputId": "460dbb81-9e30-4d0a-e345-7d3faa5e4254"
      },
      "execution_count": 89,
      "outputs": [
        {
          "output_type": "execute_result",
          "data": {
            "text/plain": [
              "Text(0, 0.5, 'Distribution')"
            ]
          },
          "metadata": {},
          "execution_count": 89
        },
        {
          "output_type": "display_data",
          "data": {
            "text/plain": [
              "<Figure size 432x288 with 1 Axes>"
            ],
            "image/png": "[encoded data removed]"
          },
          "metadata": {
            "needs_background": "light"
          }
        }
      ]
    },
    {
      "cell_type": "code",
      "source": [
        "#for N=100\n",
        "#for 3 more layer\n",
        "#for 1 more dropout\n",
        "#premium: 1.3032140667213907\n",
        "plt.hist(model.predict(x))\n",
        "plt.title('Asian Option deep hedging for 1 more dropout')\n",
        "plt.xlabel('Distance from premium')\n",
        "plt.ylabel('Distribution')"
      ],
      "metadata": {
        "colab": {
          "base_uri": "https://localhost:8080/",
          "height": 313
        },
        "id": "a37Xr5nBRNxY",
        "outputId": "db1e9e29-16a3-44b7-a622-ef44f81ff43d"
      },
      "execution_count": 12,
      "outputs": [
        {
          "output_type": "execute_result",
          "data": {
            "text/plain": [
              "Text(0, 0.5, 'Distribution')"
            ]
          },
          "metadata": {},
          "execution_count": 12
        },
        {
          "output_type": "display_data",
          "data": {
            "text/plain": [
              "<Figure size 432x288 with 1 Axes>"
            ],
            "image/png": "[encoded data removed]"
          },
          "metadata": {
            "needs_background": "light"
          }
        }
      ]
    },
    {
      "cell_type": "code",
      "source": [
        "#for N=100\n",
        "#for 3 more layer\n",
        "#changing actiavtion to leaky_relu\n",
        "#premium: 1.3032140667213907\n",
        "plt.hist(model.predict(x))\n",
        "plt.title('Asian Option deep hedging with changing actiavtion to leaky_relu')\n",
        "plt.xlabel('Distance from premium')\n",
        "plt.ylabel('Distribution')"
      ],
      "metadata": {
        "colab": {
          "base_uri": "https://localhost:8080/",
          "height": 313
        },
        "id": "8cxKBqZxS_X0",
        "outputId": "6ca2420a-514e-4385-ccf9-670d0f6b68fb"
      },
      "execution_count": 12,
      "outputs": [
        {
          "output_type": "execute_result",
          "data": {
            "text/plain": [
              "Text(0, 0.5, 'Distribution')"
            ]
          },
          "metadata": {},
          "execution_count": 12
        },
        {
          "output_type": "display_data",
          "data": {
            "text/plain": [
              "<Figure size 432x288 with 1 Axes>"
            ],
            "image/png": "[encoded data removed]"
          },
          "metadata": {
            "needs_background": "light"
          }
        }
      ]
    },
    {
      "cell_type": "code",
      "source": [
        ""
      ],
      "metadata": {
        "id": "c_tZNWguaIOE"
      },
      "execution_count": null,
      "outputs": []
    },
    {
      "cell_type": "markdown",
      "source": [
        "# For different epoch"
      ],
      "metadata": {
        "id": "ypO56EyMT-9V"
      }
    },
    {
      "cell_type": "code",
      "source": [
        "#for epoch=20\n",
        "#premium:1.3032140667213907\n",
        "plt.hist(model.predict(x))\n",
        "plt.title('Asian Option deep hedging for epoch=20')\n",
        "plt.xlabel('Distance from premium')\n",
        "plt.ylabel('Distribution')"
      ],
      "metadata": {
        "colab": {
          "base_uri": "https://localhost:8080/",
          "height": 313
        },
        "id": "xiR3VkyPUDXY",
        "outputId": "408ca117-8cc8-42d7-f032-40f536e8554d"
      },
      "execution_count": 59,
      "outputs": [
        {
          "output_type": "execute_result",
          "data": {
            "text/plain": [
              "Text(0, 0.5, 'Distribution')"
            ]
          },
          "metadata": {},
          "execution_count": 59
        },
        {
          "output_type": "display_data",
          "data": {
            "text/plain": [
              "<Figure size 432x288 with 1 Axes>"
            ],
            "image/png": "[encoded data removed]"
          },
          "metadata": {
            "needs_background": "light"
          }
        }
      ]
    },
    {
      "cell_type": "code",
      "source": [
        "#for epoch=180\n",
        "#premium:1.3032140667213907\n",
        "plt.hist(model.predict(x))\n",
        "plt.title('Asian Option deep hedging for epoch=180')\n",
        "plt.xlabel('Distance from premium')\n",
        "plt.ylabel('Distribution')"
      ],
      "metadata": {
        "colab": {
          "base_uri": "https://localhost:8080/",
          "height": 313
        },
        "id": "cQ7tjT8aUJga",
        "outputId": "54dc97f1-bbc3-411a-a454-bc1e6ed36f09"
      },
      "execution_count": 65,
      "outputs": [
        {
          "output_type": "execute_result",
          "data": {
            "text/plain": [
              "Text(0, 0.5, 'Distribution')"
            ]
          },
          "metadata": {},
          "execution_count": 65
        },
        {
          "output_type": "display_data",
          "data": {
            "text/plain": [
              "<Figure size 432x288 with 1 Axes>"
            ],
            "image/png": "[encoded data removed]"
          },
          "metadata": {
            "needs_background": "light"
          }
        }
      ]
    },
    {
      "cell_type": "markdown",
      "source": [
        "# deep hedging"
      ],
      "metadata": {
        "id": "4NF2K8-mdJjH"
      }
    },
    {
      "cell_type": "code",
      "source": [
        "import numpy as np"
      ],
      "metadata": {
        "id": "hE_JYwC5PKXJ"
      },
      "execution_count": 1,
      "outputs": []
    },
    {
      "cell_type": "code",
      "source": [
        "r = 0.00 #interest\n",
        "sig = 0.2 #level of fluctuation of current stock price\n",
        "T = 30/365 #Time to maturity (30일/360일)\n",
        "\n",
        "M = 100 #number of path\n",
        "N = 100 #for one scenrio, I will devide into 30 (더 많이 하면 accuracy 높아짐)\n",
        "\n",
        "dt = T/N\n",
        "rdt = r*dt\n",
        "sigsdt = sig * np.sqrt(dt)"
      ],
      "metadata": {
        "id": "VJqlaaBNdNUP"
      },
      "execution_count": 25,
      "outputs": []
    },
    {
      "cell_type": "code",
      "source": [
        "S0 = 100\n",
        "np.random.seed(20220617)\n",
        "S = np.empty([M,N+1])\n",
        "rv = np.random.normal(r*dt,sigsdt,[M,N])"
      ],
      "metadata": {
        "id": "MB1NOqpyddJb"
      },
      "execution_count": 26,
      "outputs": []
    },
    {
      "cell_type": "code",
      "source": [
        "for i in range(M):\n",
        "  S[i,0]=S0\n",
        "  for j in range(N):\n",
        "    S[i,j+1]=S[i,j]*(1+rv[i,j])"
      ],
      "metadata": {
        "id": "F4p_jjy-ddyH"
      },
      "execution_count": 27,
      "outputs": []
    },
    {
      "cell_type": "code",
      "source": [
        "S_avg=[]\n",
        "Asian_payoff=[]\n",
        "\n",
        "K=190\n",
        "\n",
        "for i in range(M):\n",
        "    S_avg.append(np.mean(S[i,:]))\n",
        "    Asian_payoff.append(np.maximum(S_avg[i]-K,0))\n",
        "    #print(S_avg[i],Asian_payoff[i])\n",
        "\n",
        "np.mean(Asian_payoff)*np.exp(-r*T)"
      ],
      "metadata": {
        "colab": {
          "base_uri": "https://localhost:8080/"
        },
        "id": "7dvGTUyKdjMp",
        "outputId": "f76c4cdd-995d-4fc7-f56a-22aff7434880"
      },
      "execution_count": 43,
      "outputs": [
        {
          "output_type": "execute_result",
          "data": {
            "text/plain": [
              "0.0"
            ]
          },
          "metadata": {},
          "execution_count": 43
        }
      ]
    },
    {
      "cell_type": "code",
      "source": [
        "import tensorflow as tf"
      ],
      "metadata": {
        "id": "jtrb03kaPDhM"
      },
      "execution_count": 6,
      "outputs": []
    },
    {
      "cell_type": "code",
      "source": [
        "K=190\n",
        "\n",
        "my_input = []\n",
        "\n",
        "premium = tf.keras.layers.Input(shape=(1,), name=\"premium\")\n",
        "my_input = my_input + [premium]\n",
        "\n",
        "hedge_cost = tf.keras.layers.Input(shape=(1,), name='hedge_cost')\n",
        "my_input = my_input + [hedge_cost]\n",
        "\n",
        "price = tf.keras.layers.Input(shape=(1,), name=\"price\")\n",
        "my_input = my_input + [price]\n",
        "\n",
        "\n",
        "for j in range(N):\n",
        "    \n",
        "    delta = tf.keras.layers.Dense(32, activation='tanh')(price)\n",
        "    #delta = tf.keras.layers.BatchNormalization()(delta)\n",
        "    #delta = tf.keras.layers.Dropout(0.5)(delta)\n",
        "    #delta = tf.keras.layers.Dense(32, activation='leaky_relu')(delta)\n",
        "    #delta = tf.keras.layers.BatchNormalization()(delta)\n",
        "    #delta = tf.keras.layers.Dropout(0.5)(delta)\n",
        "    #delta = tf.keras.layers.Dense(32, activation='leaky_relu')(delta)\n",
        "    #delta = tf.keras.layers.BatchNormalization()(delta)\n",
        "    #delta=tf.keras.layers.Dropout(0.5)(delta)\n",
        "    delta = tf.keras.layers.Dense(32, activation='leaky_relu')(delta)\n",
        "    delta = tf.keras.layers.Dense(1)(delta)\n",
        "\n",
        "    new_price = tf.keras.layers.Input(shape=(1,), name='S'+str(j))\n",
        "    my_input = my_input + [new_price]\n",
        "\n",
        "    price_inc = tf.keras.layers.Subtract(name='price_inc_'+str(j))([price, new_price])\n",
        "    cost = tf.keras.layers.Multiply(name=\"multiply_\"+str(j))([delta, price_inc])\n",
        "    hedge_cost = tf.keras.layers.Add(name='cost_'+str(j))([hedge_cost, cost])\n",
        "    price = new_price\n",
        "\n",
        "payoff = tf.keras.layers.Lambda(lambda x : 0.5*(tf.abs(x/N-K)+x/N-K))(price) #asian 으로 바꿔야 (lambda부분으로 average로)\n",
        "\n",
        "cum_cost = tf.keras.layers.Add(name=\"final\")([hedge_cost, payoff])\n",
        "cum_cost = tf.keras.layers.Subtract(name=\"final_\")([cum_cost, premium])\n",
        "\n",
        "model = tf.keras.Model(inputs=my_input, outputs=cum_cost) "
      ],
      "metadata": {
        "id": "LP6UxkYSdTCZ"
      },
      "execution_count": 44,
      "outputs": []
    },
    {
      "cell_type": "code",
      "source": [
        "p = 0.0 * np.ones([M,1])\n",
        "c = np.zeros([M,1])\n",
        "SS = [S[:,i].reshape(M,1) for i in range(N+1)]\n",
        "x = [p]+[c]+[SS]\n",
        "y = np.zeros([M,1])"
      ],
      "metadata": {
        "id": "OpCEy09Jdn9K"
      },
      "execution_count": 45,
      "outputs": []
    },
    {
      "cell_type": "code",
      "source": [
        "model.compile(loss='mse', optimizer='adam')"
      ],
      "metadata": {
        "id": "-RVMVRrNdqVL"
      },
      "execution_count": 46,
      "outputs": []
    },
    {
      "cell_type": "code",
      "source": [
        "model.fit(x,y, epochs=100, verbose=False)"
      ],
      "metadata": {
        "colab": {
          "base_uri": "https://localhost:8080/"
        },
        "id": "v2CqeBv_duJp",
        "outputId": "7f8bcc52-cc8f-4238-ca8a-882c48ee2354"
      },
      "execution_count": 47,
      "outputs": [
        {
          "output_type": "execute_result",
          "data": {
            "text/plain": [
              "<keras.callbacks.History at 0x7f3d8c88f450>"
            ]
          },
          "metadata": {},
          "execution_count": 47
        }
      ]
    },
    {
      "cell_type": "code",
      "source": [
        "#for N=100\n",
        "#for sig=0.5\n",
        "#premium: 3.2780247725618166\n",
        "plt.hist(model.predict(x))\n",
        "plt.title('Asian Option deep hedging for sig=0.5')\n",
        "plt.xlabel('Distance from premium')\n",
        "plt.ylabel('Distribution')"
      ],
      "metadata": {
        "colab": {
          "base_uri": "https://localhost:8080/",
          "height": 313
        },
        "id": "g6EFSc-udxT1",
        "outputId": "bafc0bb4-0a5d-4f0a-9a8c-a823314cd561"
      },
      "execution_count": 22,
      "outputs": [
        {
          "output_type": "execute_result",
          "data": {
            "text/plain": [
              "Text(0, 0.5, 'Distribution')"
            ]
          },
          "metadata": {},
          "execution_count": 22
        },
        {
          "output_type": "display_data",
          "data": {
            "text/plain": [
              "<Figure size 432x288 with 1 Axes>"
            ],
            "image/png": "[encoded data removed]"
          },
          "metadata": {
            "needs_background": "light"
          }
        }
      ]
    },
    {
      "cell_type": "code",
      "source": [
        "#for N=100\n",
        "#for r=0.30\n",
        "#premium: 1.9453773523136602\n",
        "plt.hist(model.predict(x))\n",
        "plt.title('Asian Option deep hedging for r=0.30')\n",
        "plt.xlabel('Distance from premium')\n",
        "plt.ylabel('Distribution')"
      ],
      "metadata": {
        "colab": {
          "base_uri": "https://localhost:8080/",
          "height": 313
        },
        "id": "UcBq2kW8OvSe",
        "outputId": "06f98211-a482-499f-ca01-28a06ae8c1b3"
      },
      "execution_count": 15,
      "outputs": [
        {
          "output_type": "execute_result",
          "data": {
            "text/plain": [
              "Text(0, 0.5, 'Distribution')"
            ]
          },
          "metadata": {},
          "execution_count": 15
        },
        {
          "output_type": "display_data",
          "data": {
            "text/plain": [
              "<Figure size 432x288 with 1 Axes>"
            ],
            "image/png": "[encoded data removed]"
          },
          "metadata": {
            "needs_background": "light"
          }
        }
      ]
    },
    {
      "cell_type": "code",
      "source": [
        "#for N=100\n",
        "#for T=15/365\n",
        "#premium: 0.9207221081363286\n",
        "plt.hist(model.predict(x))\n",
        "plt.title('Asian Option deep hedging for T=15/360')\n",
        "plt.xlabel('Distance from premium')\n",
        "plt.ylabel('Distribution')"
      ],
      "metadata": {
        "colab": {
          "base_uri": "https://localhost:8080/",
          "height": 313
        },
        "id": "nOa8cR_gedM8",
        "outputId": "edf3ce57-eee3-4651-91a6-f1d892f113e1"
      },
      "execution_count": 24,
      "outputs": [
        {
          "output_type": "execute_result",
          "data": {
            "text/plain": [
              "Text(0, 0.5, 'Distribution')"
            ]
          },
          "metadata": {},
          "execution_count": 24
        },
        {
          "output_type": "display_data",
          "data": {
            "text/plain": [
              "<Figure size 432x288 with 1 Axes>"
            ],
            "image/png": "[encoded data removed]"
          },
          "metadata": {
            "needs_background": "light"
          }
        }
      ]
    },
    {
      "cell_type": "code",
      "source": [
        "#for N=100\n",
        "#for K=70\n",
        "#premium: 30.03481481184628\n",
        "plt.hist(model.predict(x))\n",
        "plt.title('Asian Option deep hedging for K=70')\n",
        "plt.xlabel('Distance from premium')\n",
        "plt.ylabel('Distribution')"
      ],
      "metadata": {
        "colab": {
          "base_uri": "https://localhost:8080/",
          "height": 313
        },
        "id": "lXEB880tQwn1",
        "outputId": "d609a6d7-bf7e-4de2-bb1f-26ce3b95508f"
      },
      "execution_count": 42,
      "outputs": [
        {
          "output_type": "execute_result",
          "data": {
            "text/plain": [
              "Text(0, 0.5, 'Distribution')"
            ]
          },
          "metadata": {},
          "execution_count": 42
        },
        {
          "output_type": "display_data",
          "data": {
            "text/plain": [
              "<Figure size 432x288 with 1 Axes>"
            ],
            "image/png": "[encoded data removed]"
          },
          "metadata": {
            "needs_background": "light"
          }
        }
      ]
    },
    {
      "cell_type": "code",
      "source": [
        "#for N=100\n",
        "#for K=190\n",
        "#premium: 0.0\n",
        "plt.hist(model.predict(x))\n",
        "plt.title('Asian Option deep hedging for K=190')\n",
        "plt.xlabel('Distance from premium')\n",
        "plt.ylabel('Distribution')"
      ],
      "metadata": {
        "colab": {
          "base_uri": "https://localhost:8080/",
          "height": 313
        },
        "id": "wtIKCEHsRxJR",
        "outputId": "e7d6da2c-ba83-4e89-fc8f-c54eb38e69f8"
      },
      "execution_count": 48,
      "outputs": [
        {
          "output_type": "execute_result",
          "data": {
            "text/plain": [
              "Text(0, 0.5, 'Distribution')"
            ]
          },
          "metadata": {},
          "execution_count": 48
        },
        {
          "output_type": "display_data",
          "data": {
            "text/plain": [
              "<Figure size 432x288 with 1 Axes>"
            ],
            "image/png": "[encoded data removed]"
          },
          "metadata": {
            "needs_background": "light"
          }
        }
      ]
    }
  ]
}